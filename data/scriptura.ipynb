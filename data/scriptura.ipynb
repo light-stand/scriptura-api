{
 "cells": [
  {
   "cell_type": "markdown",
   "metadata": {},
   "source": [
    "# Scriptura Notebook\n",
    "\n",
    "This notebook will be used to convert add the data we want to include in the scriptura db and adapt them to the correct format generating CSV files"
   ]
  },
  {
   "cell_type": "markdown",
   "metadata": {},
   "source": [
    "#### Install dependencies"
   ]
  },
  {
   "cell_type": "code",
   "execution_count": null,
   "metadata": {},
   "outputs": [],
   "source": [
    "%pip install pandas"
   ]
  },
  {
   "cell_type": "markdown",
   "metadata": {},
   "source": [
    "#### Import dependencies and utils"
   ]
  },
  {
   "cell_type": "code",
   "execution_count": null,
   "metadata": {},
   "outputs": [],
   "source": [
    "import pandas as pd\n",
    "\n",
    "import secrets\n",
    "import string\n",
    "import json"
   ]
  },
  {
   "cell_type": "markdown",
   "metadata": {},
   "source": [
    "#### Define utils functions"
   ]
  },
  {
   "cell_type": "code",
   "execution_count": null,
   "metadata": {},
   "outputs": [],
   "source": [
    "def uid(length):\n",
    "    alphabet = string.ascii_letters + string.digits\n",
    "    return ''.join(secrets.choice(alphabet) for _ in range(length))\n",
    "\n",
    "def to_kebab_case(s):\n",
    "    return s.replace(' ', '-').lower()"
   ]
  },
  {
   "cell_type": "markdown",
   "metadata": {},
   "source": [
    "### Encyclopedia"
   ]
  },
  {
   "cell_type": "code",
   "execution_count": null,
   "metadata": {
    "vscode": {
     "languageId": "shellscript"
    }
   },
   "outputs": [],
   "source": [
    "# Fetch theographic\n",
    "!git clone https://github.com/robertrouse/theographic-bible-metadata.git ./dist/theographic"
   ]
  },
  {
   "cell_type": "markdown",
   "metadata": {},
   "source": [
    "##### Bible structure"
   ]
  },
  {
   "cell_type": "code",
   "execution_count": null,
   "metadata": {},
   "outputs": [],
   "source": [
    "# Testaments\n",
    "\n",
    "testaments = {\n",
    "    \"id\": [1, 2],\n",
    "    \"uid\": [uid(12), uid(12)],\n",
    "    \"name\": [\"Old Testament\", \"New Testament\"],\n",
    "    \"slug\": [\"old\", \"new\"],\n",
    "    \"code\": [\"OT\", \"NT\"],\n",
    "}\n",
    "\n",
    "df = pd.DataFrame(testaments)\n",
    "\n",
    "df.to_csv(\"output/testament.csv\", index=False)\n",
    "\n",
    "print(df)"
   ]
  },
  {
   "cell_type": "code",
   "execution_count": null,
   "metadata": {},
   "outputs": [],
   "source": [
    "# Book divisions\n",
    "\n",
    "df = pd.read_csv('dist/theographic/CSV/Books.csv')\n",
    "\n",
    "\n",
    "df = df.groupby(['bookDiv'], sort=False).count()\n",
    "\n",
    "df = df.reset_index(names=['name'])\n",
    "df = df.reset_index(names=['id'])\n",
    "df['id'] = df['id'].apply(lambda x: x+1)\n",
    "df['uid'] = [uid(12) for _ in range(len(df))]\n",
    "\n",
    "df = df[['id', 'uid', 'name']]\n",
    "\n",
    "df['slug'] = df['name'].apply(lambda n: to_kebab_case(n))\n",
    "df['testament_id'] = [1 if x <= 4 else 2 for x in range(len(df))]\n",
    "\n",
    "df.to_csv(\"output/book_division.csv\", index=False)\n",
    "\n",
    "print(df)"
   ]
  },
  {
   "cell_type": "code",
   "execution_count": null,
   "metadata": {},
   "outputs": [],
   "source": [
    "# Book\n",
    "\n",
    "bd_df = pd.read_csv('output/book_division.csv')\n",
    "\n",
    "bd_df.rename(columns={'id':'book_division_id'}, inplace=True)\n",
    "bd_df = bd_df[['book_division_id', 'name']]\n",
    "\n",
    "df = pd.read_csv('dist/theographic/CSV/Books.csv')\n",
    "\n",
    "rename_dict = {\n",
    "    'bookOrder': 'id', \n",
    "    'bookName': 'name',\n",
    "    'shortName': 'short_name',\n",
    "    'yearWritten': 'year_written',\n",
    "}\n",
    "\n",
    "df.rename(columns=rename_dict, inplace=True)\n",
    "\n",
    "df = df.join(bd_df.set_index('name'), on='bookDiv')\n",
    "\n",
    "df['uid'] = [uid(12) for _ in range(len(df))]\n",
    "\n",
    "df = df[['id','uid', 'name', 'slug', 'short_name', 'year_written', 'book_division_id']]\n",
    "\n",
    "df['testament_id'] = [1 if x < 39 else 2 for x in range(len(df))]\n",
    "\n",
    "df.to_csv(\"output/book.csv\", index=False)\n",
    "\n",
    "print(df)"
   ]
  },
  {
   "cell_type": "code",
   "execution_count": 19,
   "metadata": {},
   "outputs": [
    {
     "name": "stdout",
     "output_type": "stream",
     "text": [
      "        id           uid  book_id  chapter_num\n",
      "0        1  i5cHtqTXgKZt        1            1\n",
      "1        2  Oiduc64kQFcX        1            2\n",
      "2        3  lw2nTblDIFlV        1            3\n",
      "3        4  aIoI3Am1STzy        1            4\n",
      "4        5  kHJvqlJQBBtJ        1            5\n",
      "...    ...           ...      ...          ...\n",
      "1184  1185  eaimTpRItCgA       66           18\n",
      "1185  1186  XhacGOuUFF2a       66           19\n",
      "1186  1187  bVlXie14fmzt       66           20\n",
      "1187  1188  7ojjx6x3mmVI       66           21\n",
      "1188  1189  QWhd69dwAgy1       66           22\n",
      "\n",
      "[1189 rows x 4 columns]\n"
     ]
    }
   ],
   "source": [
    "# Chapter\n",
    "\n",
    "b_df = pd.read_csv('dist/theographic/CSV/Books.csv')\n",
    "\n",
    "chapters = []\n",
    "\n",
    "for index, book in b_df.iterrows():\n",
    "    for i in range(1, book['chapterCount'] + 1):\n",
    "        chapters.append({\n",
    "            'book_id': index + 1,\n",
    "            'chapter_num': i,\n",
    "        })\n",
    "\n",
    "df = pd.DataFrame(chapters)\n",
    "\n",
    "df = df.reset_index(names=['id'])\n",
    "df['id'] = df['id'].apply(lambda x: x+1)\n",
    "df['uid'] = [uid(12) for _ in range(len(df))]\n",
    "\n",
    "df = df[['id', 'uid', 'book_id', 'chapter_num']]\n",
    "\n",
    "df.to_csv(\"output/chapter.csv\", index=False)\n",
    "\n",
    "print(df)"
   ]
  },
  {
   "cell_type": "code",
   "execution_count": 18,
   "metadata": {},
   "outputs": [
    {
     "name": "stdout",
     "output_type": "stream",
     "text": [
      "          id  book_id chapter_id     theographic_id  chapter_num  verse_num  \\\n",
      "0          1        1       None  rec7mkRLwey2ntUG9            1          1   \n",
      "1          2        1       None  rec7DRaTJV5ANnvEj            1          2   \n",
      "2          3        1       None  recxtLDOVbJSsI8iR            1          3   \n",
      "3          4        1       None  recw6dtvOn3H9jJe6            1          4   \n",
      "4          5        1       None  recB8C8aeTDYkHjKZ            1          5   \n",
      "...      ...      ...        ...                ...          ...        ...   \n",
      "31097  31098       66       None  recVNA6ojuOF4V66a           22         17   \n",
      "31098  31099       66       None  rec8zqyVi1XnnkcYN           22         18   \n",
      "31099  31100       66       None  recb6AU07t1PvNroS           22         19   \n",
      "31100  31101       66       None  recuxhlLPzgp2xNXh           22         20   \n",
      "31101  31102       66       None  recogsGhS7vA94UZh           22         21   \n",
      "\n",
      "         year   status  \n",
      "0     -4004.0  publish  \n",
      "1     -4004.0  publish  \n",
      "2     -4004.0  publish  \n",
      "3     -4004.0  publish  \n",
      "4     -4004.0  publish  \n",
      "...       ...      ...  \n",
      "31097    96.0      wip  \n",
      "31098    96.0      wip  \n",
      "31099    96.0      wip  \n",
      "31100    96.0      wip  \n",
      "31101    96.0      wip  \n",
      "\n",
      "[31102 rows x 8 columns]\n"
     ]
    }
   ],
   "source": [
    "\n",
    "# Verse\n",
    "\n",
    "with open(\"dist/theographic/json/verses.json\", \"r\") as file:\n",
    "    verses = json.load(file)\n",
    "\n",
    "with open(\"dist/theographic/json/books.json\", \"r\") as file:\n",
    "    books = json.load(file)\n",
    "\n",
    "with open(\"dist/theographic/json/chapters.json\", \"r\") as file:\n",
    "    chapters = json.load(file)\n",
    "\n",
    "parsed_verses = []\n",
    "\n",
    "books_uuids = list(book[\"id\"] for book in books)\n",
    "\n",
    "for i, verse in enumerate(verses):\n",
    "    book_id = books_uuids.index(verse[\"fields\"][\"book\"][0]) + 1\n",
    "\n",
    "    parsed_verses.append({\n",
    "        'id': i + 1,\n",
    "        'book_id': book_id,\n",
    "        'chapter_id': None,\n",
    "        'theographic_id': verse[\"id\"],\n",
    "        'chapter_num': int(verse[\"fields\"][\"verseID\"][2:5]),\n",
    "        'verse_num': int(verse[\"fields\"][\"verseID\"][5:]),\n",
    "        'year': verse.get(\"fields\", {}).get(\"yearNum\", None),\n",
    "        'status': verse[\"fields\"][\"status\"],\n",
    "    })\n",
    "\n",
    "df = pd.DataFrame(parsed_verses)\n",
    "\n",
    "print(df)\n"
   ]
  },
  {
   "cell_type": "code",
   "execution_count": null,
   "metadata": {},
   "outputs": [],
   "source": []
  },
  {
   "cell_type": "markdown",
   "metadata": {},
   "source": [
    "#### Todo.. rest of structure"
   ]
  }
 ],
 "metadata": {
  "kernelspec": {
   "display_name": ".venv",
   "language": "python",
   "name": "python3"
  },
  "language_info": {
   "codemirror_mode": {
    "name": "ipython",
    "version": 3
   },
   "file_extension": ".py",
   "mimetype": "text/x-python",
   "name": "python",
   "nbconvert_exporter": "python",
   "pygments_lexer": "ipython3",
   "version": "3.11.7"
  }
 },
 "nbformat": 4,
 "nbformat_minor": 2
}
