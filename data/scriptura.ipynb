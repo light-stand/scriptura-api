{
 "cells": [
  {
   "cell_type": "markdown",
   "metadata": {},
   "source": [
    "# Scriptura Notebook\n",
    "\n",
    "This notebook will be used to convert add the data we want to include in the scriptura db and adapt them to the correct format generating CSV files"
   ]
  },
  {
   "cell_type": "markdown",
   "metadata": {},
   "source": [
    "#### Install dependencies"
   ]
  },
  {
   "cell_type": "code",
   "execution_count": 1,
   "metadata": {},
   "outputs": [
    {
     "name": "stdout",
     "output_type": "stream",
     "text": [
      "Requirement already satisfied: pandas in /Users/pedro/.local/share/virtualenvs/importer-theographic-NlFUQl_1/lib/python3.11/site-packages (2.2.2)\n",
      "Requirement already satisfied: numpy>=1.23.2 in /Users/pedro/.local/share/virtualenvs/importer-theographic-NlFUQl_1/lib/python3.11/site-packages (from pandas) (1.26.4)\n",
      "Requirement already satisfied: python-dateutil>=2.8.2 in /Users/pedro/.local/share/virtualenvs/importer-theographic-NlFUQl_1/lib/python3.11/site-packages (from pandas) (2.9.0.post0)\n",
      "Requirement already satisfied: pytz>=2020.1 in /Users/pedro/.local/share/virtualenvs/importer-theographic-NlFUQl_1/lib/python3.11/site-packages (from pandas) (2024.1)\n",
      "Requirement already satisfied: tzdata>=2022.7 in /Users/pedro/.local/share/virtualenvs/importer-theographic-NlFUQl_1/lib/python3.11/site-packages (from pandas) (2024.1)\n",
      "Requirement already satisfied: six>=1.5 in /Users/pedro/.local/share/virtualenvs/importer-theographic-NlFUQl_1/lib/python3.11/site-packages (from python-dateutil>=2.8.2->pandas) (1.16.0)\n",
      "\n",
      "\u001b[1m[\u001b[0m\u001b[34;49mnotice\u001b[0m\u001b[1;39;49m]\u001b[0m\u001b[39;49m A new release of pip is available: \u001b[0m\u001b[31;49m23.3.1\u001b[0m\u001b[39;49m -> \u001b[0m\u001b[32;49m24.0\u001b[0m\n",
      "\u001b[1m[\u001b[0m\u001b[34;49mnotice\u001b[0m\u001b[1;39;49m]\u001b[0m\u001b[39;49m To update, run: \u001b[0m\u001b[32;49mpip install --upgrade pip\u001b[0m\n",
      "Note: you may need to restart the kernel to use updated packages.\n"
     ]
    }
   ],
   "source": [
    "%pip install pandas"
   ]
  },
  {
   "cell_type": "markdown",
   "metadata": {},
   "source": [
    "#### Import dependencies and utils"
   ]
  },
  {
   "cell_type": "code",
   "execution_count": 2,
   "metadata": {},
   "outputs": [],
   "source": [
    "import pandas as pd\n",
    "\n",
    "import secrets\n",
    "import string"
   ]
  },
  {
   "cell_type": "markdown",
   "metadata": {},
   "source": [
    "#### Define utils functions"
   ]
  },
  {
   "cell_type": "code",
   "execution_count": 37,
   "metadata": {},
   "outputs": [],
   "source": [
    "def uid(length):\n",
    "    alphabet = string.ascii_letters + string.digits\n",
    "    return ''.join(secrets.choice(alphabet) for _ in range(length))\n",
    "\n",
    "def to_kebab_case(s):\n",
    "    return s.replace(' ', '-').lower()"
   ]
  },
  {
   "cell_type": "markdown",
   "metadata": {},
   "source": [
    "### Encyclopedia"
   ]
  },
  {
   "cell_type": "code",
   "execution_count": null,
   "metadata": {
    "vscode": {
     "languageId": "shellscript"
    }
   },
   "outputs": [],
   "source": [
    "# Fetch theographic\n",
    "!git clone https://github.com/robertrouse/theographic-bible-metadata.git ./dist/theographic"
   ]
  },
  {
   "cell_type": "code",
   "execution_count": 42,
   "metadata": {},
   "outputs": [
    {
     "name": "stdout",
     "output_type": "stream",
     "text": [
      "   id           uid           name slug code\n",
      "0   1  9LxBfQaehWB5  Old Testament  old   OT\n",
      "1   2  MCHB8FLjHsdT  New Testament  new   NT\n"
     ]
    }
   ],
   "source": [
    "# Testaments\n",
    "\n",
    "testaments = {\n",
    "    \"id\": [1, 2],\n",
    "    \"uid\": [uid(12), uid(12)],\n",
    "    \"name\": [\"Old Testament\", \"New Testament\"],\n",
    "    \"slug\": [\"old\", \"new\"],\n",
    "    \"code\": [\"OT\", \"NT\"],\n",
    "}\n",
    "\n",
    "df = pd.DataFrame(testaments)\n",
    "\n",
    "df.to_csv(\"output/testament.csv\", index=False)\n",
    "\n",
    "print(df)"
   ]
  },
  {
   "cell_type": "code",
   "execution_count": 41,
   "metadata": {},
   "outputs": [
    {
     "name": "stdout",
     "output_type": "stream",
     "text": [
      "   id           uid              name  book_count              slug  \\\n",
      "0   1  VWozTn4edcnm        Pentateuch           5        pentateuch   \n",
      "1   2  wzcWaAfjjVjT        Historical          12        historical   \n",
      "2   3  rrB6qKTXcPJe     Poetry-Wisdom           6     poetry-wisdom   \n",
      "3   4  j3vQyhSqk56C    Major Prophets           4    major-prophets   \n",
      "4   5  fmriXPhWUFRS    Minor Prophets          12    minor-prophets   \n",
      "5   6  twqKUi3exmZp           Gospels           4           gospels   \n",
      "6   7  4k6bkYUwUhVS              Acts           1              acts   \n",
      "7   8  GEbgKpRcJ359  Pauline Epistles          14  pauline-epistles   \n",
      "8   9  iH7uBJJ8kB8m  General Epistles           7  general-epistles   \n",
      "9  10  rgfNiYU0yaxu        Revelation           1        revelation   \n",
      "\n",
      "   testament_id  \n",
      "0             1  \n",
      "1             1  \n",
      "2             1  \n",
      "3             1  \n",
      "4             1  \n",
      "5             2  \n",
      "6             2  \n",
      "7             2  \n",
      "8             2  \n",
      "9             2  \n"
     ]
    }
   ],
   "source": [
    "# Book divisions\n",
    "\n",
    "df = pd.read_csv('dist/theographic/CSV/Books.csv')\n",
    "\n",
    "\n",
    "df = df.groupby(['bookDiv'], sort=False).count()\n",
    "df = df.rename(columns={'chapterCount': 'book_count'})\n",
    "df = df[['book_count']]\n",
    "\n",
    "df = df.reset_index(names=['name'])\n",
    "df = df.reset_index(names=['id'])\n",
    "df['id'] = df['id'].apply(lambda x: x+1)\n",
    "df['uid'] = [uid(12) for _ in range(len(df))]\n",
    "\n",
    "df = df[['id', 'uid', 'name', 'book_count']]\n",
    "\n",
    "df['slug'] = df['name'].apply(lambda n: to_kebab_case(n))\n",
    "df['testament_id'] = [1 if x <= 4 else 2 for x in range(len(df))]\n",
    "\n",
    "df.to_csv(\"output/book_division.csv\", index=False)\n",
    "\n",
    "print(df)"
   ]
  },
  {
   "cell_type": "code",
   "execution_count": null,
   "metadata": {},
   "outputs": [],
   "source": []
  }
 ],
 "metadata": {
  "kernelspec": {
   "display_name": ".venv",
   "language": "python",
   "name": "python3"
  },
  "language_info": {
   "codemirror_mode": {
    "name": "ipython",
    "version": 3
   },
   "file_extension": ".py",
   "mimetype": "text/x-python",
   "name": "python",
   "nbconvert_exporter": "python",
   "pygments_lexer": "ipython3",
   "version": "3.11.7"
  }
 },
 "nbformat": 4,
 "nbformat_minor": 2
}
